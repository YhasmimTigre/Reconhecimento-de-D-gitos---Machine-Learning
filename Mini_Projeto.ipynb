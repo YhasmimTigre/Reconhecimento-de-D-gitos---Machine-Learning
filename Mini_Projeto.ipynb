{
 "cells": [
  {
   "cell_type": "markdown",
   "metadata": {},
   "source": [
    "# Projeto 01: Reconhecimento de Dígitos\n",
    "\n",
    "### João Victor Soares Silva | Mat: 20210027300\n",
    "### Yhasmim de Souza Tigre | Mat: 20210026966 "
   ]
  },
  {
   "cell_type": "markdown",
   "metadata": {},
   "source": [
    "## Pré-Processamento"
   ]
  },
  {
   "cell_type": "code",
   "execution_count": 2,
   "metadata": {},
   "outputs": [],
   "source": [
    "def reduzir (nome : str, arq : str, lista_intensidades : list, lista_simetrias : list) -> None:\n",
    "\n",
    "    '''\n",
    "    Função que gera o arquivo .csv com os novos parâmetros de intensidade e simetria.\n",
    "    Parâmetros: nome (string) - nome do .csv que será criado;\n",
    "    arq (string) -  nome do .csv que será recebido para pegar as labels;\n",
    "    lista_intensidades (list) - lista que contém a intensidade dos pixels de cada dado do dataset;\n",
    "    lista_simetrias (list) - lista que contém a simetria de cada dado do dataset.\n",
    "\n",
    "    Retorno: redux (csv) - um .csv com dimensões reduzidas para diminuir a complexidade dos dados,\n",
    "    constando apenas com os parâmetros label, intensidade e simetria.  \n",
    "    '''\n",
    "\n",
    "    redux = open (f'{nome}.csv', 'w')\n",
    "    aux = open (arq, 'r')\n",
    "\n",
    "    redux.write ('label, intensidade, simetria\\n')\n",
    "\n",
    "    i = 0\n",
    "    for linha in aux:\n",
    "        redux.write (f'{linha[0]}, {lista_intensidades[i]}, {lista_simetrias[i]}\\n')\n",
    "        i += 1\n",
    "\n",
    "    redux.close()\n",
    "    aux.close()"
   ]
  },
  {
   "cell_type": "code",
   "execution_count": null,
   "metadata": {},
   "outputs": [],
   "source": [
    "def intensidade (arq : str) -> list:\n",
    "    lista_intensidades = []\n",
    "    aux = open (arq, 'r')\n",
    "\n",
    "    valor = ''\n",
    "    for linha in aux:\n",
    "        soma = 0\n",
    "\n",
    "        for i in range (2, len(linha)): #Pulando o label\n",
    "            if (linha[i] != ';'):\n",
    "                valor += linha[i]\n",
    "            \n",
    "            else:\n",
    "                soma += int(valor)\n",
    "                valor = ''\n",
    "        \n",
    "        lista_intensidades.append((soma + int(valor))/255)\n",
    "        valor = ''\n",
    "    \n",
    "    aux.close()\n",
    "\n",
    "    return lista_intensidades"
   ]
  },
  {
   "cell_type": "code",
   "execution_count": null,
   "metadata": {},
   "outputs": [],
   "source": [
    "def simetria (arq : str) -> list:\n",
    "    lista_simetrias = []\n",
    "    aux = open (arq, 'r')\n",
    "\n",
    "    #Simetria vertical:\n",
    "    for linha in aux:\n",
    "        for i in range (2, len(linha)):\n",
    "            continue\n",
    "\n",
    "    #Simetria horizontal:\n",
    "\n",
    "    aux.close()\n",
    "\n",
    "    return lista_simetrias"
   ]
  },
  {
   "cell_type": "markdown",
   "metadata": {},
   "source": [
    "## Algoritmos"
   ]
  },
  {
   "cell_type": "markdown",
   "metadata": {},
   "source": [
    "### Perceptron Learning Algorithm (PLA)"
   ]
  },
  {
   "cell_type": "markdown",
   "metadata": {},
   "source": [
    "### Regressão Linear"
   ]
  },
  {
   "cell_type": "markdown",
   "metadata": {},
   "source": [
    "### Regressão Logística"
   ]
  },
  {
   "cell_type": "markdown",
   "metadata": {},
   "source": [
    "## Classificação dos Dígitos 1x5"
   ]
  },
  {
   "cell_type": "markdown",
   "metadata": {},
   "source": [
    "### Perceptron Learning Algorithm (PLA)"
   ]
  },
  {
   "cell_type": "markdown",
   "metadata": {},
   "source": [
    "### Regressão Linear"
   ]
  },
  {
   "cell_type": "markdown",
   "metadata": {},
   "source": [
    "### Regressão Logística"
   ]
  },
  {
   "cell_type": "markdown",
   "metadata": {},
   "source": [
    "### Relatório de Eficácia"
   ]
  },
  {
   "cell_type": "markdown",
   "metadata": {},
   "source": [
    "## Classificação de Dígitos Completo"
   ]
  },
  {
   "cell_type": "markdown",
   "metadata": {},
   "source": [
    "### Perceptron Learning Algorithm (PLA)"
   ]
  },
  {
   "cell_type": "markdown",
   "metadata": {},
   "source": [
    "### Regressão Linear"
   ]
  },
  {
   "cell_type": "markdown",
   "metadata": {},
   "source": [
    "### Regressão Logística"
   ]
  },
  {
   "cell_type": "markdown",
   "metadata": {},
   "source": [
    "### Relatório de Eficácia"
   ]
  },
  {
   "cell_type": "markdown",
   "metadata": {},
   "source": [
    "## Comparação dos Classificadores"
   ]
  },
  {
   "cell_type": "markdown",
   "metadata": {},
   "source": [
    "## Implementações Avançadas"
   ]
  },
  {
   "cell_type": "markdown",
   "metadata": {},
   "source": [
    "### Weight-Decay para a Regressão Logística"
   ]
  },
  {
   "cell_type": "markdown",
   "metadata": {},
   "source": [
    "### Definindo a Melhor Ordem"
   ]
  }
 ],
 "metadata": {
  "kernelspec": {
   "display_name": "Python 3",
   "language": "python",
   "name": "python3"
  },
  "language_info": {
   "codemirror_mode": {
    "name": "ipython",
    "version": 3
   },
   "file_extension": ".py",
   "mimetype": "text/x-python",
   "name": "python",
   "nbconvert_exporter": "python",
   "pygments_lexer": "ipython3",
   "version": "3.10.12"
  }
 },
 "nbformat": 4,
 "nbformat_minor": 2
}
