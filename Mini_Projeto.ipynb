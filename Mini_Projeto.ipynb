{
 "cells": [
  {
   "cell_type": "markdown",
   "metadata": {},
   "source": [
    "# Projeto 01: Reconhecimento de Dígitos\n",
    "\n",
    "### João Victor Soares Silva | Mat: 20210027300\n",
    "### Yhasmim de Souza Tigre | Mat: 20210026966 "
   ]
  },
  {
   "cell_type": "markdown",
   "metadata": {},
   "source": [
    "## Pré-Processamento"
   ]
  },
  {
   "cell_type": "code",
   "execution_count": 13,
   "metadata": {},
   "outputs": [],
   "source": [
    "import numpy as np\n",
    "import pandas as pd"
   ]
  },
  {
   "cell_type": "code",
   "execution_count": 23,
   "metadata": {},
   "outputs": [],
   "source": [
    "N = 28 #Número de linhas e colunas das matrizes das imagens\n",
    "P_MAX = 255 #Número máximo de um pixel"
   ]
  },
  {
   "cell_type": "code",
   "execution_count": 21,
   "metadata": {},
   "outputs": [
    {
     "data": {
      "text/plain": [
       "'\\nAqui é só um exemplo menor de como funcionam as fórmulas da simetria no array.\\nAcho bom usar pra estudar pra apresentação, então deixei aqui.\\n'"
      ]
     },
     "execution_count": 21,
     "metadata": {},
     "output_type": "execute_result"
    }
   ],
   "source": [
    "'''\n",
    "Aqui é só um exemplo menor de como funcionam as fórmulas da simetria no array.\n",
    "Acho bom usar pra estudar pra apresentação, então deixei aqui.\n",
    "'''\n",
    "\n",
    "teste = [\n",
    " 1, 2, 3, 4,\n",
    " 5, 6, 7, 8,\n",
    " 9, 10, 11, 12,\n",
    " 13, 14, 15, 16]\n",
    "\n",
    "lin = 4\n",
    "\n",
    "#Vertical\n",
    "print('Vertical')\n",
    "for i in range(lin):\n",
    "\n",
    "    for j in range(int(lin/2)):\n",
    "        print(f'{teste[(lin*i) + j]} + {teste[(lin*i) + (lin - j - 1)]} =\n",
    "                {teste[(lin*i) + j] + teste[(lin*i) + (lin - j - 1)]}')\n",
    "\n",
    "#Horizontal\n",
    "print('\\nHorizontal')\n",
    "for i in range(int(lin/2)):\n",
    "    \n",
    "    for j in range(lin):\n",
    "        print(f'{teste[(lin*i) + j]} + {teste[(lin*(lin - i - 1)) + j]} =\n",
    "                {teste[(lin*i) + j] + teste[(lin*(lin - i - 1)) + j]}')"
   ]
  },
  {
   "cell_type": "code",
   "execution_count": 24,
   "metadata": {},
   "outputs": [],
   "source": [
    "def reduzir (nome : str, arq : str) -> None:\n",
    "    aux = np.loadtxt (arq, delimiter = ';', dtype = str)\n",
    "    aux = np.delete (aux, 0, 0) #Removendo a linha dos nomes das colunas\n",
    "    lista_y = []\n",
    "    lista_intensidade = []\n",
    "    lista_simetria_vertical = []\n",
    "    lista_simetria_horizontal = []\n",
    "    lista_simetria = []\n",
    "\n",
    "    for i in range (len(aux)): #Salvando as labels\n",
    "        lista_y.append (int(aux[i][0]))\n",
    "    \n",
    "    aux = np.delete (aux, 0, 1) #Removendo as labels\n",
    "    \n",
    "    for i in range (len(aux)): #Calculando as intensidades\n",
    "        soma = 0    \n",
    "\n",
    "        for j in range (len(aux[0])):\n",
    "            soma += int(aux[i][j])\n",
    "        \n",
    "        lista_intensidade.append(soma/P_MAX)\n",
    "    \n",
    "    for imagem in aux: #Simetria vertical\n",
    "        soma = 0\n",
    "\n",
    "        for i in range(N):\n",
    "            for j in range(int(N/2)):\n",
    "                soma += abs(int(imagem[(N*i) + j]) - int(imagem[(N*i) + (N - j - 1)]))\n",
    "\n",
    "        lista_simetria_vertical.append(soma/P_MAX)\n",
    "\n",
    "    for imagem in aux: #Simetria horizontal\n",
    "        soma = 0\n",
    "\n",
    "        for i in range(int(N/2)):\n",
    "            for j in range(N):\n",
    "                soma += abs(int(imagem[(N*i) + j]) - int(imagem[N * (N - i - 1) + j]))\n",
    "\n",
    "        lista_simetria_horizontal.append(soma/P_MAX)\n",
    "    \n",
    "    for i in range (len(aux)): #Somando as simetrias\n",
    "        lista_simetria.append(lista_simetria_vertical[i] + lista_simetria_horizontal[i])\n",
    "\n",
    "    #Criando e preenchendo o novo .csv\n",
    "    dados_redux = open (f'{nome}.csv', 'w')\n",
    "\n",
    "    dados_redux.write ('label;intensidade;simetria\\n')\n",
    "    for i in range (len(aux)):\n",
    "        dados_redux.write (f'{lista_y[i]};{lista_intensidade[i]};{lista_simetria[i]}\\n')\n",
    "    \n",
    "    dados_redux.close()\n",
    "\n",
    "    return"
   ]
  },
  {
   "cell_type": "code",
   "execution_count": 25,
   "metadata": {},
   "outputs": [],
   "source": [
    "reduzir(nome = 'train_redu', arq = 'train.csv')\n",
    "reduzir(nome = 'test_redu', arq = 'test.csv')"
   ]
  },
  {
   "cell_type": "code",
   "execution_count": 26,
   "metadata": {},
   "outputs": [],
   "source": [
    "def eval(nome_train: str, nome_eval: str):\n",
    "    # Carrega os dados de treino\n",
    "    train_data = np.loadtxt('train_redu.csv', delimiter=';', dtype=str)\n",
    "    \n",
    "    # Ignora a primeira linha\n",
    "    train_data = np.delete(train_data, 0, 0)\n",
    "    \n",
    "    # Calcula o tamanho dos conjuntos de treino e avaliação\n",
    "    train_len = int(0.8 * len(train_data))\n",
    "    eval_len = len(train_data) - train_len\n",
    "    \n",
    "    # Escreve os cabeçalhos nos arquivos\n",
    "    with open(f'{nome_train}.csv', 'w') as train_file:\n",
    "        train_file.write('label;intensidade;simetria\\n')\n",
    "    \n",
    "    with open(f'{nome_eval}.csv', 'w') as eval_file:\n",
    "        eval_file.write('label;intensidade;simetria\\n')\n",
    "    \n",
    "    # Divide os dados em conjuntos de treino e avaliação\n",
    "    np.savetxt(f'{nome_train}.csv', train_data[:train_len], delimiter=';', fmt='%s')\n",
    "    np.savetxt(f'{nome_eval}.csv', train_data[train_len:], delimiter=';', fmt='%s')\n",
    "\n",
    "\n",
    "    #não retorna corretamente - precisa retornar amostra aleatória de treino e avaliação"
   ]
  },
  {
   "cell_type": "code",
   "execution_count": 27,
   "metadata": {},
   "outputs": [
    {
     "ename": "ValueError",
     "evalue": "a must be 1-dimensional",
     "output_type": "error",
     "traceback": [
      "\u001b[1;31m---------------------------------------------------------------------------\u001b[0m",
      "\u001b[1;31mValueError\u001b[0m                                Traceback (most recent call last)",
      "\u001b[1;32m~\\AppData\\Local\\Temp\\ipykernel_2524\\1406029238.py\u001b[0m in \u001b[0;36m<cell line: 1>\u001b[1;34m()\u001b[0m\n\u001b[1;32m----> 1\u001b[1;33m \u001b[0meval\u001b[0m\u001b[1;33m(\u001b[0m\u001b[1;34m'train_redu'\u001b[0m\u001b[1;33m,\u001b[0m \u001b[1;34m'eval_redu'\u001b[0m\u001b[1;33m)\u001b[0m\u001b[1;33m\u001b[0m\u001b[1;33m\u001b[0m\u001b[0m\n\u001b[0m",
      "\u001b[1;32m~\\AppData\\Local\\Temp\\ipykernel_2524\\1973656290.py\u001b[0m in \u001b[0;36meval\u001b[1;34m(nome_train, nome_eval)\u001b[0m\n\u001b[0;32m     18\u001b[0m \u001b[1;33m\u001b[0m\u001b[0m\n\u001b[0;32m     19\u001b[0m     \u001b[1;31m# Seleciona uma amostra aleatória para o conjunto de avaliação\u001b[0m\u001b[1;33m\u001b[0m\u001b[1;33m\u001b[0m\u001b[1;33m\u001b[0m\u001b[0m\n\u001b[1;32m---> 20\u001b[1;33m     \u001b[0meval_data\u001b[0m \u001b[1;33m=\u001b[0m \u001b[0mnp\u001b[0m\u001b[1;33m.\u001b[0m\u001b[0mrandom\u001b[0m\u001b[1;33m.\u001b[0m\u001b[0mchoice\u001b[0m\u001b[1;33m(\u001b[0m\u001b[0mtrain_data\u001b[0m\u001b[1;33m,\u001b[0m \u001b[0msize\u001b[0m\u001b[1;33m=\u001b[0m\u001b[0meval_len\u001b[0m\u001b[1;33m,\u001b[0m \u001b[0mreplace\u001b[0m\u001b[1;33m=\u001b[0m\u001b[1;32mFalse\u001b[0m\u001b[1;33m)\u001b[0m\u001b[1;33m\u001b[0m\u001b[1;33m\u001b[0m\u001b[0m\n\u001b[0m\u001b[0;32m     21\u001b[0m \u001b[1;33m\u001b[0m\u001b[0m\n\u001b[0;32m     22\u001b[0m     \u001b[1;31m# Remove a amostra aleatória do conjunto de treino\u001b[0m\u001b[1;33m\u001b[0m\u001b[1;33m\u001b[0m\u001b[1;33m\u001b[0m\u001b[0m\n",
      "\u001b[1;32mmtrand.pyx\u001b[0m in \u001b[0;36mnumpy.random.mtrand.RandomState.choice\u001b[1;34m()\u001b[0m\n",
      "\u001b[1;31mValueError\u001b[0m: a must be 1-dimensional"
     ]
    }
   ],
   "source": [
    "eval('train_redu', 'eval_redu')"
   ]
  },
  {
   "cell_type": "markdown",
   "metadata": {},
   "source": [
    "## Algoritmos"
   ]
  },
  {
   "cell_type": "markdown",
   "metadata": {},
   "source": [
    "### Perceptron Learning Algorithm (PLA)"
   ]
  },
  {
   "cell_type": "code",
   "execution_count": 24,
   "metadata": {},
   "outputs": [],
   "source": [
    "class PLA ():\n",
    "    def __init__(self, arq : str, w_lista = []) -> None:\n",
    "        '''\n",
    "        Entradas : arq - .csv dos dados, contendo suas características e rotulação. \n",
    "        '''\n",
    "        self.xy_lista = []\n",
    "        self.w_lista = w_lista\n",
    "\n",
    "        aux = np.loadtxt (arq, delimiter = ';', dtype = str)\n",
    "        aux = np.delete (aux, 0, 0) #Removendo a linha dos nomes das colunas\n",
    "\n",
    "        for linha in aux:\n",
    "            self.xy_lista.append([[1, linha[1], linha[2]], linha[0]]) #O 1 será usado para a multiplicação com o bias posteriormente\n",
    "        \n",
    "        if (len(w_lista) == 0):\n",
    "            for i in range (3): #Já que temos 2 features + o bias\n",
    "                self.w_lista.append(0) #Os pesos inicializarão em 0, caso não existam\n",
    "\n",
    "    def Acuracia (self, w_lista : list) -> float:\n",
    "        soma_PCC = 0\n",
    "\n",
    "        for i in range (len(self.xy_lista)):\n",
    "            aux = np.sign (np.sum(np.multiply(w_lista, self.xy_lista[i][0])))\n",
    "\n",
    "            if (aux == self.xy_lista[i][1]):\n",
    "                soma_PCC += 1\n",
    "    \n",
    "        return (soma_PCC/len(self.xy_lista))\n",
    "\n",
    "    def ConstrutorLista_PCI (self, pontos : list) -> list:\n",
    "        lista_PCI = []\n",
    "\n",
    "        for i in range (len(pontos)):\n",
    "            aux = np.sign (np.sum(np.multiply(self.w_lista, pontos[i][0])))\n",
    "\n",
    "            if (aux != pontos[i][1]):\n",
    "                lista_PCI.append(pontos[i])\n",
    "        \n",
    "        return lista_PCI\n",
    "\n",
    "    def ExecutarPLA (self, n_int = 100) -> None:\n",
    "        lista_PCI = self.xy_lista\n",
    "        w_otimo = self.w_lista\n",
    "\n",
    "        i = 0\n",
    "        while (len(lista_PCI) > 0 or i < n_int):\n",
    "            ale_index = np.random.randint(0, len(lista_PCI)) #index aleatório\n",
    "            ponto = lista_PCI[ale_index]\n",
    "\n",
    "            aux = np.multiply(ponto[0], ponto[1]) #x * y\n",
    "            w_novo = np.add(self.w_lista, aux)\n",
    "\n",
    "            if (self.Acuracia(w_lista = w_otimo) < self.Acuracia(w_lista = w_novo)):\n",
    "                w_otimo = w_novo\n",
    "\n",
    "            self.w_lista = w_novo\n",
    "\n",
    "            lista_PCI = self.ConstrutorLista_PCI (self, pontos = self.xy_lista)\n",
    "            i += 1\n",
    "        \n",
    "        self.w_lista = w_otimo\n",
    "\n",
    "        return\n"
   ]
  },
  {
   "cell_type": "markdown",
   "metadata": {},
   "source": [
    "### Regressão Linear"
   ]
  },
  {
   "cell_type": "code",
   "execution_count": null,
   "metadata": {},
   "outputs": [],
   "source": [
    "class LinearRegression:\n",
    "    def fit(self, _X, _y):\n",
    "      #criando matrizes\n",
    "      x = np.array(_X)\n",
    "      y = np.array(_y)\n",
    "\n",
    "      #vetor de pesos w (seguindo o calculo matematico)\n",
    "      self.w = np.linalg.inv(x.transpose() * x) * x.transpose() * y\n",
    "\n",
    "      return self.w\n",
    "\n",
    "    def predict(self, _x):#lista de amostras\n",
    "      #retorna uma lista de classificações\n",
    "\n",
    "      return [np.dot(_x, self.w) for x in _x]\n",
    "\n",
    "    def getW(self):\n",
    "        return self.w"
   ]
  },
  {
   "cell_type": "code",
   "execution_count": null,
   "metadata": {},
   "outputs": [],
   "source": [
    "\"\"\"\n",
    "Teste RLinear para ser adaptado\n",
    "_timeRL = [[1, t] for t in _time]\n",
    "\n",
    "lr = LinearRegression()\n",
    "lr.fit(_timeRL, _data)\n",
    "\n",
    "_dataRL = lr.predict(_timeRL)\n",
    "\n",
    "_timeLabelForecast = time[96:]\n",
    "_timeForecast = [i for i in range(len(_timeLabel), len(_timeLabel) + len(_timeLabelForecast))]\n",
    "_dataForecast = lr.predict([[1, t] for t in _timeForecast])\n",
    "\n",
    "\n",
    "\n",
    "\n",
    "config_plt()\n",
    "\n",
    "plt.plot(_timeLabel, _data, 'r-*')\n",
    "plt.plot(_timeLabel, _dataRL, 'k--')\n",
    "plt.plot(_timeLabelForecast, _dataForecast, 'b*')\n",
    "\n",
    "plt.legend(['~f(.)', 'h(.)', 'previsão'], loc=2)\"\"\""
   ]
  },
  {
   "cell_type": "markdown",
   "metadata": {},
   "source": [
    "### Regressão Logística"
   ]
  },
  {
   "cell_type": "code",
   "execution_count": 25,
   "metadata": {},
   "outputs": [],
   "source": [
    "class Reg_Log ():\n",
    "    def __init__ (self) -> None:\n",
    "        pass"
   ]
  },
  {
   "cell_type": "markdown",
   "metadata": {},
   "source": [
    "## Classificação dos Dígitos 1x5"
   ]
  },
  {
   "cell_type": "code",
   "execution_count": null,
   "metadata": {},
   "outputs": [],
   "source": [
    "#remover linhas com determinado valor\n",
    "def class1x5 (nome : str):\n",
    "    \n",
    "    df = open (f'{nome}.csv', 'r')\n",
    "\n",
    "#plotar dados de train 1x5 em um graf de 2 dimensões\n",
    "# label = 1 azul, labl = 5, vermelho  \n"
   ]
  },
  {
   "cell_type": "code",
   "execution_count": 20,
   "metadata": {},
   "outputs": [
    {
     "ename": "KeyError",
     "evalue": "'label'",
     "output_type": "error",
     "traceback": [
      "\u001b[1;31m---------------------------------------------------------------------------\u001b[0m",
      "\u001b[1;31mKeyError\u001b[0m                                  Traceback (most recent call last)",
      "\u001b[1;32mc:\\Users\\Yhasmim\\AppData\\Local\\Programs\\Python\\Python39\\lib\\site-packages\\pandas\\core\\indexes\\base.py\u001b[0m in \u001b[0;36mget_loc\u001b[1;34m(self, key, method, tolerance)\u001b[0m\n\u001b[0;32m   3360\u001b[0m             \u001b[1;32mtry\u001b[0m\u001b[1;33m:\u001b[0m\u001b[1;33m\u001b[0m\u001b[1;33m\u001b[0m\u001b[0m\n\u001b[1;32m-> 3361\u001b[1;33m                 \u001b[1;32mreturn\u001b[0m \u001b[0mself\u001b[0m\u001b[1;33m.\u001b[0m\u001b[0m_engine\u001b[0m\u001b[1;33m.\u001b[0m\u001b[0mget_loc\u001b[0m\u001b[1;33m(\u001b[0m\u001b[0mcasted_key\u001b[0m\u001b[1;33m)\u001b[0m\u001b[1;33m\u001b[0m\u001b[1;33m\u001b[0m\u001b[0m\n\u001b[0m\u001b[0;32m   3362\u001b[0m             \u001b[1;32mexcept\u001b[0m \u001b[0mKeyError\u001b[0m \u001b[1;32mas\u001b[0m \u001b[0merr\u001b[0m\u001b[1;33m:\u001b[0m\u001b[1;33m\u001b[0m\u001b[1;33m\u001b[0m\u001b[0m\n",
      "\u001b[1;32mc:\\Users\\Yhasmim\\AppData\\Local\\Programs\\Python\\Python39\\lib\\site-packages\\pandas\\_libs\\index.pyx\u001b[0m in \u001b[0;36mpandas._libs.index.IndexEngine.get_loc\u001b[1;34m()\u001b[0m\n",
      "\u001b[1;32mc:\\Users\\Yhasmim\\AppData\\Local\\Programs\\Python\\Python39\\lib\\site-packages\\pandas\\_libs\\index.pyx\u001b[0m in \u001b[0;36mpandas._libs.index.IndexEngine.get_loc\u001b[1;34m()\u001b[0m\n",
      "\u001b[1;32mpandas\\_libs\\hashtable_class_helper.pxi\u001b[0m in \u001b[0;36mpandas._libs.hashtable.PyObjectHashTable.get_item\u001b[1;34m()\u001b[0m\n",
      "\u001b[1;32mpandas\\_libs\\hashtable_class_helper.pxi\u001b[0m in \u001b[0;36mpandas._libs.hashtable.PyObjectHashTable.get_item\u001b[1;34m()\u001b[0m\n",
      "\u001b[1;31mKeyError\u001b[0m: 'label'",
      "\nThe above exception was the direct cause of the following exception:\n",
      "\u001b[1;31mKeyError\u001b[0m                                  Traceback (most recent call last)",
      "\u001b[1;32m~\\AppData\\Local\\Temp\\ipykernel_2524\\3620761347.py\u001b[0m in \u001b[0;36m<cell line: 6>\u001b[1;34m()\u001b[0m\n\u001b[0;32m      4\u001b[0m \u001b[1;33m\u001b[0m\u001b[0m\n\u001b[0;32m      5\u001b[0m \u001b[1;31m# Filtrar os dados para deixar apenas as imagens com valores 1 ou 5 na coluna label\u001b[0m\u001b[1;33m\u001b[0m\u001b[1;33m\u001b[0m\u001b[1;33m\u001b[0m\u001b[0m\n\u001b[1;32m----> 6\u001b[1;33m \u001b[0mtrain1x5\u001b[0m \u001b[1;33m=\u001b[0m \u001b[0mtrain_data\u001b[0m\u001b[1;33m[\u001b[0m\u001b[0mtrain_data\u001b[0m\u001b[1;33m[\u001b[0m\u001b[1;34m'label'\u001b[0m\u001b[1;33m]\u001b[0m\u001b[1;33m.\u001b[0m\u001b[0misin\u001b[0m\u001b[1;33m(\u001b[0m\u001b[1;33m[\u001b[0m\u001b[1;36m1\u001b[0m\u001b[1;33m,\u001b[0m \u001b[1;36m5\u001b[0m\u001b[1;33m]\u001b[0m\u001b[1;33m)\u001b[0m\u001b[1;33m]\u001b[0m\u001b[1;33m\u001b[0m\u001b[1;33m\u001b[0m\u001b[0m\n\u001b[0m\u001b[0;32m      7\u001b[0m \u001b[0mtest1x5\u001b[0m \u001b[1;33m=\u001b[0m \u001b[0mtest_data\u001b[0m\u001b[1;33m[\u001b[0m\u001b[0mtest_data\u001b[0m\u001b[1;33m[\u001b[0m\u001b[1;34m'label'\u001b[0m\u001b[1;33m]\u001b[0m\u001b[1;33m.\u001b[0m\u001b[0misin\u001b[0m\u001b[1;33m(\u001b[0m\u001b[1;33m[\u001b[0m\u001b[1;36m1\u001b[0m\u001b[1;33m,\u001b[0m \u001b[1;36m5\u001b[0m\u001b[1;33m]\u001b[0m\u001b[1;33m)\u001b[0m\u001b[1;33m]\u001b[0m\u001b[1;33m\u001b[0m\u001b[1;33m\u001b[0m\u001b[0m\n\u001b[0;32m      8\u001b[0m \u001b[1;33m\u001b[0m\u001b[0m\n",
      "\u001b[1;32mc:\\Users\\Yhasmim\\AppData\\Local\\Programs\\Python\\Python39\\lib\\site-packages\\pandas\\core\\frame.py\u001b[0m in \u001b[0;36m__getitem__\u001b[1;34m(self, key)\u001b[0m\n\u001b[0;32m   3456\u001b[0m             \u001b[1;32mif\u001b[0m \u001b[0mself\u001b[0m\u001b[1;33m.\u001b[0m\u001b[0mcolumns\u001b[0m\u001b[1;33m.\u001b[0m\u001b[0mnlevels\u001b[0m \u001b[1;33m>\u001b[0m \u001b[1;36m1\u001b[0m\u001b[1;33m:\u001b[0m\u001b[1;33m\u001b[0m\u001b[1;33m\u001b[0m\u001b[0m\n\u001b[0;32m   3457\u001b[0m                 \u001b[1;32mreturn\u001b[0m \u001b[0mself\u001b[0m\u001b[1;33m.\u001b[0m\u001b[0m_getitem_multilevel\u001b[0m\u001b[1;33m(\u001b[0m\u001b[0mkey\u001b[0m\u001b[1;33m)\u001b[0m\u001b[1;33m\u001b[0m\u001b[1;33m\u001b[0m\u001b[0m\n\u001b[1;32m-> 3458\u001b[1;33m             \u001b[0mindexer\u001b[0m \u001b[1;33m=\u001b[0m \u001b[0mself\u001b[0m\u001b[1;33m.\u001b[0m\u001b[0mcolumns\u001b[0m\u001b[1;33m.\u001b[0m\u001b[0mget_loc\u001b[0m\u001b[1;33m(\u001b[0m\u001b[0mkey\u001b[0m\u001b[1;33m)\u001b[0m\u001b[1;33m\u001b[0m\u001b[1;33m\u001b[0m\u001b[0m\n\u001b[0m\u001b[0;32m   3459\u001b[0m             \u001b[1;32mif\u001b[0m \u001b[0mis_integer\u001b[0m\u001b[1;33m(\u001b[0m\u001b[0mindexer\u001b[0m\u001b[1;33m)\u001b[0m\u001b[1;33m:\u001b[0m\u001b[1;33m\u001b[0m\u001b[1;33m\u001b[0m\u001b[0m\n\u001b[0;32m   3460\u001b[0m                 \u001b[0mindexer\u001b[0m \u001b[1;33m=\u001b[0m \u001b[1;33m[\u001b[0m\u001b[0mindexer\u001b[0m\u001b[1;33m]\u001b[0m\u001b[1;33m\u001b[0m\u001b[1;33m\u001b[0m\u001b[0m\n",
      "\u001b[1;32mc:\\Users\\Yhasmim\\AppData\\Local\\Programs\\Python\\Python39\\lib\\site-packages\\pandas\\core\\indexes\\base.py\u001b[0m in \u001b[0;36mget_loc\u001b[1;34m(self, key, method, tolerance)\u001b[0m\n\u001b[0;32m   3361\u001b[0m                 \u001b[1;32mreturn\u001b[0m \u001b[0mself\u001b[0m\u001b[1;33m.\u001b[0m\u001b[0m_engine\u001b[0m\u001b[1;33m.\u001b[0m\u001b[0mget_loc\u001b[0m\u001b[1;33m(\u001b[0m\u001b[0mcasted_key\u001b[0m\u001b[1;33m)\u001b[0m\u001b[1;33m\u001b[0m\u001b[1;33m\u001b[0m\u001b[0m\n\u001b[0;32m   3362\u001b[0m             \u001b[1;32mexcept\u001b[0m \u001b[0mKeyError\u001b[0m \u001b[1;32mas\u001b[0m \u001b[0merr\u001b[0m\u001b[1;33m:\u001b[0m\u001b[1;33m\u001b[0m\u001b[1;33m\u001b[0m\u001b[0m\n\u001b[1;32m-> 3363\u001b[1;33m                 \u001b[1;32mraise\u001b[0m \u001b[0mKeyError\u001b[0m\u001b[1;33m(\u001b[0m\u001b[0mkey\u001b[0m\u001b[1;33m)\u001b[0m \u001b[1;32mfrom\u001b[0m \u001b[0merr\u001b[0m\u001b[1;33m\u001b[0m\u001b[1;33m\u001b[0m\u001b[0m\n\u001b[0m\u001b[0;32m   3364\u001b[0m \u001b[1;33m\u001b[0m\u001b[0m\n\u001b[0;32m   3365\u001b[0m         \u001b[1;32mif\u001b[0m \u001b[0mis_scalar\u001b[0m\u001b[1;33m(\u001b[0m\u001b[0mkey\u001b[0m\u001b[1;33m)\u001b[0m \u001b[1;32mand\u001b[0m \u001b[0misna\u001b[0m\u001b[1;33m(\u001b[0m\u001b[0mkey\u001b[0m\u001b[1;33m)\u001b[0m \u001b[1;32mand\u001b[0m \u001b[1;32mnot\u001b[0m \u001b[0mself\u001b[0m\u001b[1;33m.\u001b[0m\u001b[0mhasnans\u001b[0m\u001b[1;33m:\u001b[0m\u001b[1;33m\u001b[0m\u001b[1;33m\u001b[0m\u001b[0m\n",
      "\u001b[1;31mKeyError\u001b[0m: 'label'"
     ]
    }
   ],
   "source": [
    "# Carregar os arquivos CSV\n",
    "train_data = pd.read_csv('train_redu.csv')\n",
    "test_data = pd.read_csv('test_redu.csv')\n",
    "\n",
    "# Filtrar os dados para deixar apenas as imagens com valores 1 ou 5 na coluna label\n",
    "train1x5 = train_data[train_data['label'].isin([1, 5])]\n",
    "test1x5 = test_data[test_data['label'].isin([1, 5])]\n",
    "\n",
    "# Plotar os dados de train1x5 em um gráfico de duas dimensões (intensidade X simetria)\n",
    "plt.figure(figsize=(8, 6))\n",
    "plt.scatter(train1x5['intensity'], train1x5['symmetry'], c=train1x5['label'], cmap='coolwarm', alpha=0.6)\n",
    "plt.xlabel('Intensidade')\n",
    "plt.ylabel('Simetria')\n",
    "plt.title('Gráfico de Dispersão - Intensidade vs Simetria (Train1x5)')\n",
    "plt.colorbar(label='Label')\n",
    "plt.grid(True)\n",
    "plt.show()"
   ]
  },
  {
   "cell_type": "markdown",
   "metadata": {},
   "source": [
    "#X = intensidade, simetria  para toda imagem de train 1x5\n",
    "\n",
    "#atribuir valor alvo y = +1 para label = 1 \n",
    "\n",
    "#atribuir valor alvo y = -1 para label = 5\n"
   ]
  },
  {
   "cell_type": "markdown",
   "metadata": {},
   "source": [
    "### Perceptron Learning Algorithm (PLA)"
   ]
  },
  {
   "cell_type": "code",
   "execution_count": null,
   "metadata": {},
   "outputs": [],
   "source": [
    "#treino com train1x5"
   ]
  },
  {
   "cell_type": "markdown",
   "metadata": {},
   "source": [
    "### Regressão Linear"
   ]
  },
  {
   "cell_type": "code",
   "execution_count": null,
   "metadata": {},
   "outputs": [],
   "source": [
    "#treino com train1x5"
   ]
  },
  {
   "cell_type": "markdown",
   "metadata": {},
   "source": [
    "### Regressão Logística"
   ]
  },
  {
   "cell_type": "code",
   "execution_count": null,
   "metadata": {},
   "outputs": [],
   "source": [
    "#treino com train1x5"
   ]
  },
  {
   "cell_type": "markdown",
   "metadata": {},
   "source": [
    "### Relatório de Eficácia"
   ]
  },
  {
   "cell_type": "code",
   "execution_count": null,
   "metadata": {},
   "outputs": [],
   "source": [
    "#para cada classificador\n",
    "\n",
    "from sklearn.metrics import classification_report\n",
    "form sklearn.metrics import confusion_matrix\n",
    "#print(classification_report(y_true, y_pred, target_names=target_names)) EXEMPLO\n",
    "#print(confusion_matrix(y_true, y_pred, *, labels=None, sample_weight=None, normalize=None)) EXEMPLO"
   ]
  },
  {
   "cell_type": "markdown",
   "metadata": {},
   "source": [
    "## Classificação de Dígitos Completo"
   ]
  },
  {
   "cell_type": "markdown",
   "metadata": {},
   "source": [
    "### Perceptron Learning Algorithm (PLA)"
   ]
  },
  {
   "cell_type": "markdown",
   "metadata": {},
   "source": [
    "### Regressão Linear"
   ]
  },
  {
   "cell_type": "markdown",
   "metadata": {},
   "source": [
    "### Regressão Logística"
   ]
  },
  {
   "cell_type": "markdown",
   "metadata": {},
   "source": [
    "### Relatório de Eficácia"
   ]
  },
  {
   "cell_type": "code",
   "execution_count": null,
   "metadata": {},
   "outputs": [],
   "source": [
    "#print(classification_report(y_true, y_pred, target_names=target_names)) EXEMPLO"
   ]
  },
  {
   "cell_type": "markdown",
   "metadata": {},
   "source": [
    "## Comparação dos Classificadores"
   ]
  },
  {
   "cell_type": "markdown",
   "metadata": {},
   "source": [
    "## Implementações Avançadas"
   ]
  },
  {
   "cell_type": "markdown",
   "metadata": {},
   "source": [
    "### Weight-Decay para a Regressão Logística"
   ]
  },
  {
   "cell_type": "code",
   "execution_count": null,
   "metadata": {},
   "outputs": [],
   "source": [
    "#os pesos da função w serão penalisados\n",
    "#o w que possui o melhor eval é o escolhido"
   ]
  },
  {
   "cell_type": "markdown",
   "metadata": {},
   "source": [
    "### Definindo a Melhor Ordem"
   ]
  }
 ],
 "metadata": {
  "kernelspec": {
   "display_name": "Python 3",
   "language": "python",
   "name": "python3"
  },
  "language_info": {
   "codemirror_mode": {
    "name": "ipython",
    "version": 3
   },
   "file_extension": ".py",
   "mimetype": "text/x-python",
   "name": "python",
   "nbconvert_exporter": "python",
   "pygments_lexer": "ipython3",
   "version": "3.9.6"
  }
 },
 "nbformat": 4,
 "nbformat_minor": 2
}
