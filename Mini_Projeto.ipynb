{
 "cells": [
  {
   "cell_type": "markdown",
   "metadata": {},
   "source": [
    "# Projeto 01: Reconhecimento de Dígitos\n",
    "\n",
    "### João Victor Soares Silva | Mat: 20210027300\n",
    "### Yhasmim de Souza Tigre | Mat: 20210026966 "
   ]
  },
  {
   "cell_type": "markdown",
   "metadata": {},
   "source": [
    "## Pré-Processamento"
   ]
  },
  {
   "cell_type": "code",
   "execution_count": 1,
   "metadata": {},
   "outputs": [],
   "source": [
    "import numpy as np\n",
    "import random as rd"
   ]
  },
  {
   "cell_type": "code",
   "execution_count": 2,
   "metadata": {},
   "outputs": [],
   "source": [
    "N = 28 #Número de linhas e colunas das matrizes das imagens\n",
    "P_MAX = 255 #Número máximo de um pixel"
   ]
  },
  {
   "cell_type": "code",
   "execution_count": 10,
   "metadata": {},
   "outputs": [],
   "source": [
    "# Aqui é só um exemplo menor de como funcionam as fórmulas da simetria no array.\n",
    "# Acho bom usar pra estudar pra apresentação, então deixei aqui.\n",
    "\n",
    "# teste = [\n",
    "# 1, 2, 3, 4,\n",
    "# 5, 6, 7, 8,\n",
    "# 9, 10, 11, 12,\n",
    "# 13, 14, 15, 16]\n",
    "\n",
    "# lin = 4\n",
    "\n",
    "# #Vertical\n",
    "# print('Vertical')\n",
    "# for i in range(lin):\n",
    "\n",
    "#     for j in range(int(lin/2)):\n",
    "#         print(f'{teste[(lin*i) + j]} + {teste[(lin*i) + (lin - j - 1)]} = {teste[(lin*i) + j] + teste[(lin*i) + (lin - j - 1)]}')\n",
    "\n",
    "# #Horizontal\n",
    "# print('\\nHorizontal')\n",
    "# for i in range(int(lin/2)):\n",
    "    \n",
    "#     for j in range(lin):\n",
    "#         print(f'{teste[(lin*i) + j]} + {teste[(lin*(lin - i - 1)) + j]} = {teste[(lin*i) + j] + teste[(lin*(lin - i - 1)) + j]}')"
   ]
  },
  {
   "cell_type": "code",
   "execution_count": 4,
   "metadata": {},
   "outputs": [],
   "source": [
    "def reduzir (nome : str, arq : str) -> None:\n",
    "    aux = np.loadtxt (arq, delimiter = ';', dtype = str)\n",
    "    aux = np.delete (aux, 0, 0) #Removendo a linha dos nomes das colunas\n",
    "    lista_y = []\n",
    "    lista_intensidade = []\n",
    "    lista_simetria_vertical = []\n",
    "    lista_simetria_horizontal = []\n",
    "    lista_simetria = []\n",
    "\n",
    "    for i in range (len(aux)): #Salvando as labels\n",
    "        lista_y.append (int(aux[i][0]))\n",
    "    \n",
    "    aux = np.delete (aux, 0, 1) #Removendo as labels\n",
    "    \n",
    "    for i in range (len(aux)): #Calculando as intensidades\n",
    "        soma = 0\n",
    "\n",
    "        for j in range (len(aux[0])):\n",
    "            soma += int(aux[i][j])\n",
    "        \n",
    "        lista_intensidade.append(soma/P_MAX)\n",
    "    \n",
    "    for imagem in aux: #Simetria vertical\n",
    "        soma = 0\n",
    "\n",
    "        for i in range(N):\n",
    "            for j in range(int(N/2)):\n",
    "                soma += abs(int(imagem[(N*i) + j]) - int(imagem[(N*i) + (N - j - 1)]))\n",
    "\n",
    "        lista_simetria_vertical.append(soma/P_MAX)\n",
    "\n",
    "    for imagem in aux: #Simetria horizontal\n",
    "        soma = 0\n",
    "\n",
    "        for i in range(int(N/2)):\n",
    "            for j in range(N):\n",
    "                soma += abs(int(imagem[(N*i) + j]) - int(imagem[N * (N - i - 1) + j]))\n",
    "\n",
    "        lista_simetria_horizontal.append(soma/P_MAX)\n",
    "    \n",
    "    for i in range (len(aux)): #Somando as simetrias\n",
    "        lista_simetria.append(lista_simetria_vertical[i] + lista_simetria_horizontal[i])\n",
    "\n",
    "    #Criando e preenchendo o novo .csv\n",
    "    dados_redux = open (f'{nome}.csv', 'w')\n",
    "\n",
    "    dados_redux.write ('label;intensidade;simetria\\n')\n",
    "    for i in range (len(aux)):\n",
    "        dados_redux.write (f'{lista_y[i]};{lista_intensidade[i]};{lista_simetria[i]}\\n')\n",
    "    \n",
    "    dados_redux.close()\n",
    "\n",
    "    return"
   ]
  },
  {
   "cell_type": "code",
   "execution_count": 5,
   "metadata": {},
   "outputs": [],
   "source": [
    "def leitor_csv (arq : str) -> np.array:\n",
    "    x = []\n",
    "    y = []\n",
    "\n",
    "    aux = np.loadtxt (arq, delimiter = ';', dtype = str)\n",
    "    aux = np.delete (aux, 0, 0) #Removendo a linha dos nomes das colunas\n",
    "\n",
    "    for linha in aux:\n",
    "        x.append([linha[1], linha[2]])\n",
    "        y.append(linha[0])\n",
    "    \n",
    "    return np.array(x), np.array(y)"
   ]
  },
  {
   "cell_type": "code",
   "execution_count": 6,
   "metadata": {},
   "outputs": [],
   "source": [
    "reduzir(nome = 'train_redu', arq = 'train.csv')\n",
    "reduzir(nome = 'test_redu', arq = 'test.csv')"
   ]
  },
  {
   "cell_type": "markdown",
   "metadata": {},
   "source": [
    "## Algoritmos"
   ]
  },
  {
   "cell_type": "markdown",
   "metadata": {},
   "source": [
    "### Perceptron Learning Algorithm (PLA)"
   ]
  },
  {
   "cell_type": "code",
   "execution_count": 7,
   "metadata": {},
   "outputs": [],
   "source": [
    "class PLA ():\n",
    "    def __init__(self, n_int : int = 1000, tam_batch : int = 32) -> None:\n",
    "        self.n_int = n_int\n",
    "        self.tam_batch = tam_batch\n",
    "\n",
    "    def acuracia (self, X : np.array, Y : np.array, w_lista : np.array) -> float:\n",
    "        soma_PCC = 0\n",
    "\n",
    "        for i in range (len(X)):\n",
    "            aux = np.sign (np.sum(np.matmul(w_lista, X[i])))\n",
    "\n",
    "            if (aux == Y[i]):\n",
    "                soma_PCC += 1\n",
    "    \n",
    "        return (soma_PCC/len(X))\n",
    "    \n",
    "    def __construtor_PCI (self, X : np.array, Y : np.array) -> np.array:\n",
    "        lista_PCI_x = []\n",
    "        lista_PCI_y = []\n",
    "\n",
    "        for i in range (len(X)):\n",
    "            aux = np.sign (np.sum(np.matmul(self.w_lista, X[i])))\n",
    "\n",
    "            if (aux != Y[i]):\n",
    "                lista_PCI_x.append(X[i])\n",
    "                lista_PCI_y.append(Y[i])\n",
    "        \n",
    "        return np.array(lista_PCI_x), np.array(lista_PCI_y) \n",
    "\n",
    "    def fit (self, X : np.array, Y : np.array) -> None:\n",
    "        lista_PCI_x = X\n",
    "        lista_PCI_y = Y\n",
    "        self.w_lista, w_otimo = np.zeros(X.shape[1]), np.zeros(X.shape[1])\n",
    "\n",
    "        i = 0\n",
    "        while (len(lista_PCI_x) > 0 or i < self.n_int):\n",
    "            ale_index = np.random.randint(0, len(lista_PCI_x)) #index aleatório\n",
    "            ponto_x = lista_PCI_x[ale_index]\n",
    "            ponto_y = lista_PCI_y[ale_index]\n",
    "\n",
    "            aux = np.matmul(ponto_x, ponto_y) #x * y\n",
    "            w_novo = np.add(self.w_lista, aux)\n",
    "\n",
    "            if (self.acuracia (X, Y, w_otimo) < self.acuracia (X, Y, w_novo)):\n",
    "                w_otimo = w_novo\n",
    "\n",
    "            self.w_lista = w_novo\n",
    "\n",
    "            lista_PCI_x, lista_PCI_y = self.__construtor_PCI (self, X = X, Y = Y)\n",
    "            i += 1\n",
    "        \n",
    "        self.w_lista = w_otimo\n",
    "\n",
    "        return\n",
    "    \n",
    "    def predict (self, X : np.array) -> np.array:\n",
    "        predict_y = [np.sign(np.matmul(i, self.w_lista)) for i in X]\n",
    "\n",
    "        return predict_y\n",
    "\n",
    "    def get_w (self) -> np.array:\n",
    "        try:\n",
    "            return self.w_lista\n",
    "        \n",
    "        except:\n",
    "            print (\"Não foi possível recuperar w. Por favor, se certifique de treinar o modelo antes.\\n\")\n",
    "\n",
    "    def set_w (self, novo_w : np.array) -> None:\n",
    "        self.w_lista = novo_w\n",
    "\n",
    "    "
   ]
  },
  {
   "cell_type": "markdown",
   "metadata": {},
   "source": [
    "### Regressão Linear"
   ]
  },
  {
   "cell_type": "markdown",
   "metadata": {},
   "source": [
    "### Regressão Logística"
   ]
  },
  {
   "cell_type": "code",
   "execution_count": 8,
   "metadata": {},
   "outputs": [],
   "source": [
    "class Reg_Log ():\n",
    "    def __init__ (self, eta = 0.1, n_int = 1000, tam_batch = 32) -> None:\n",
    "        self.eta = eta\n",
    "        self.n_int = n_int\n",
    "        self.tam_batch = tam_batch\n",
    "    \n",
    "    def fit (self, X : np.array, Y : np.array, eps : float = 0.0001) -> None:\n",
    "        lista_X = X\n",
    "        lista_y = Y\n",
    "    \n",
    "        for i in range (len(X)):\n",
    "            lista_X[i].insert(0, 1) #O 1 será usado para a multiplicação com o bias posteriormente\n",
    "        \n",
    "        n_dim = len(lista_X[0])\n",
    "        n_elem = len(lista_X)\n",
    "        w_lista = np.zeros(n_dim, dtype = float)\n",
    "\n",
    "        #Cálculo dos gradientes pelo processo iterativo\n",
    "        for i in range (self.n_int):\n",
    "            vsoma = np.zeros(n_dim, dtype = float)\n",
    "\n",
    "            if (self.tam_batch) < n_elem:\n",
    "                batch_X = []\n",
    "                batch_Y = []\n",
    "                indices = rd.sample(range(n_elem), self.tam_batch)\n",
    "\n",
    "                for j in indices:\n",
    "                    batch_X.append(lista_X[j])\n",
    "                    batch_Y.append(lista_y[j])\n",
    "            \n",
    "            else:\n",
    "                batch_X = lista_X\n",
    "                batch_Y = lista_y\n",
    "            \n",
    "            for xn, yn in zip(batch_X, batch_Y):\n",
    "                vsoma += (int(yn) * float(xn)) / 1 + np.exp(np.matmul(np.transpose(yn * w_lista), xn))\n",
    "            \n",
    "            grad_t = vsoma / self.tam_batch\n",
    "\n",
    "            #Testando o minimo\n",
    "            if (np.linalg.norm(grad_t) <  eps):\n",
    "                break\n",
    "\n",
    "            w_lista = w_lista + (self.eta * grad_t)\n",
    "        \n",
    "        self.w_lista = w_lista\n",
    "\n",
    "    def predict (self, X : np.array) -> np.array:\n",
    "        aux = [1 / (1 + np.exp(- np.dot(self.w_lista, i))) for i in X]\n",
    "        predict_y = [0 if i <= 0.5 else 1 for i in aux]\n",
    "\n",
    "        return predict_y\n",
    "\n",
    "    def get_w (self) -> np.array:\n",
    "        try:\n",
    "            return self.w_lista\n",
    "        \n",
    "        except:\n",
    "            print (\"Não foi possível recuperar w. Por favor, se certifique de treinar o modelo antes.\\n\")\n",
    "\n",
    "    def set_w (self, novo_w : np.array) -> None:\n",
    "        self.w_lista = novo_w\n",
    "        \n",
    "        "
   ]
  },
  {
   "cell_type": "markdown",
   "metadata": {},
   "source": [
    "## Classificação dos Dígitos 1x5"
   ]
  },
  {
   "cell_type": "markdown",
   "metadata": {},
   "source": [
    "### Perceptron Learning Algorithm (PLA)"
   ]
  },
  {
   "cell_type": "markdown",
   "metadata": {},
   "source": [
    "### Regressão Linear"
   ]
  },
  {
   "cell_type": "markdown",
   "metadata": {},
   "source": [
    "### Regressão Logística"
   ]
  },
  {
   "cell_type": "markdown",
   "metadata": {},
   "source": [
    "### Relatório de Eficácia"
   ]
  },
  {
   "cell_type": "markdown",
   "metadata": {},
   "source": [
    "## Classificação de Dígitos Completo"
   ]
  },
  {
   "cell_type": "code",
   "execution_count": 9,
   "metadata": {},
   "outputs": [],
   "source": [
    "class UmVSTodos ():\n",
    "    def __init__(self) -> None:\n",
    "        pass\n",
    "        \n",
    "    def fit (self):\n",
    "        pass"
   ]
  },
  {
   "cell_type": "markdown",
   "metadata": {},
   "source": [
    "### Perceptron Learning Algorithm (PLA)"
   ]
  },
  {
   "cell_type": "markdown",
   "metadata": {},
   "source": [
    "### Regressão Linear"
   ]
  },
  {
   "cell_type": "markdown",
   "metadata": {},
   "source": [
    "### Regressão Logística"
   ]
  },
  {
   "cell_type": "markdown",
   "metadata": {},
   "source": [
    "### Relatório de Eficácia"
   ]
  },
  {
   "cell_type": "markdown",
   "metadata": {},
   "source": [
    "## Comparação dos Classificadores"
   ]
  },
  {
   "cell_type": "markdown",
   "metadata": {},
   "source": [
    "## Implementações Avançadas"
   ]
  },
  {
   "cell_type": "markdown",
   "metadata": {},
   "source": [
    "### Weight-Decay para a Regressão Logística"
   ]
  },
  {
   "cell_type": "markdown",
   "metadata": {},
   "source": [
    "### Definindo a Melhor Ordem"
   ]
  }
 ],
 "metadata": {
  "kernelspec": {
   "display_name": "Python 3",
   "language": "python",
   "name": "python3"
  },
  "language_info": {
   "codemirror_mode": {
    "name": "ipython",
    "version": 3
   },
   "file_extension": ".py",
   "mimetype": "text/x-python",
   "name": "python",
   "nbconvert_exporter": "python",
   "pygments_lexer": "ipython3",
   "version": "3.10.12"
  }
 },
 "nbformat": 4,
 "nbformat_minor": 2
}
